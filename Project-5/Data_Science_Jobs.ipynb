{
  "metadata": {
    "kernelspec": {
      "language": "python",
      "display_name": "Python 3",
      "name": "python3"
    },
    "language_info": {
      "name": "python",
      "version": "3.7.10",
      "mimetype": "text/x-python",
      "codemirror_mode": {
        "name": "ipython",
        "version": 3
      },
      "pygments_lexer": "ipython3",
      "nbconvert_exporter": "python",
      "file_extension": ".py"
    },
    "colab": {
      "provenance": []
    }
  },
  "nbformat_minor": 0,
  "nbformat": 4,
  "cells": [
    {
      "cell_type": "markdown",
      "source": [
        "<h1> Import data libraries"
      ],
      "metadata": {
        "papermill": {
          "duration": 0.031034,
          "end_time": "2021-04-11T18:52:05.210355",
          "exception": false,
          "start_time": "2021-04-11T18:52:05.179321",
          "status": "completed"
        },
        "tags": [],
        "id": "Yzxx7KUSA9d7"
      }
    },
    {
      "cell_type": "code",
      "source": [
        "import numpy as np \n",
        "import pandas as pd \n",
        "import seaborn as sns \n",
        "import matplotlib.pyplot as plt\n",
        "from xgboost import XGBClassifier\n",
        "from sklearn.model_selection import train_test_split\n",
        "from imblearn.over_sampling import RandomOverSampler\n",
        "from collections import Counter\n",
        "from sklearn.preprocessing import OrdinalEncoder\n",
        "from sklearn.pipeline import Pipeline\n",
        "from sklearn.compose import ColumnTransformer\n",
        "from sklearn.tree import DecisionTreeClassifier\n",
        "from sklearn.model_selection import GridSearchCV\n",
        "from sklearn.tree import DecisionTreeClassifier\n",
        "from sklearn.metrics import plot_roc_curve\n",
        "from sklearn.dummy import DummyClassifier\n",
        "from sklearn.metrics import accuracy_score\n",
        "from sklearn.metrics import recall_score\n",
        "from sklearn.metrics import precision_score\n",
        "from sklearn.metrics import f1_score\n",
        "from sklearn.metrics import classification_report\n",
        "from sklearn.ensemble import RandomForestClassifier\n",
        "from sklearn.model_selection import GridSearchCV\n",
        "from sklearn.linear_model import LogisticRegression\n",
        "from sklearn.neighbors import KNeighborsClassifier"
      ],
      "metadata": {
        "_cell_guid": "b1076dfc-b9ad-4769-8c92-a6c4dae69d19",
        "_kg_hide-input": false,
        "_uuid": "8f2839f25d086af736a60e9eeb907d3b93b6e0e5",
        "papermill": {
          "duration": 2.087097,
          "end_time": "2021-04-11T18:52:07.328867",
          "exception": false,
          "start_time": "2021-04-11T18:52:05.24177",
          "status": "completed"
        },
        "tags": [],
        "execution": {
          "iopub.status.busy": "2022-09-04T05:38:04.801884Z",
          "iopub.execute_input": "2022-09-04T05:38:04.802516Z",
          "iopub.status.idle": "2022-09-04T05:38:06.172310Z",
          "shell.execute_reply.started": "2022-09-04T05:38:04.802397Z",
          "shell.execute_reply": "2022-09-04T05:38:06.171476Z"
        },
        "trusted": true,
        "id": "YwDpJOPFA9d9"
      },
      "execution_count": 22,
      "outputs": []
    },
    {
      "cell_type": "markdown",
      "source": [
        "<h1> Load data"
      ],
      "metadata": {
        "papermill": {
          "duration": 0.030935,
          "end_time": "2021-04-11T18:52:07.391452",
          "exception": false,
          "start_time": "2021-04-11T18:52:07.360517",
          "status": "completed"
        },
        "tags": [],
        "id": "DYWS5DkBA9eB"
      }
    },
    {
      "cell_type": "code",
      "source": [
        "train_data = pd.read_csv('https://www.dropbox.com/s/8pnfe5bnbe9jglt/JobChangeofDataScientists.csv?dl=1') "
      ],
      "metadata": {
        "papermill": {
          "duration": 0.122812,
          "end_time": "2021-04-11T18:52:07.545768",
          "exception": false,
          "start_time": "2021-04-11T18:52:07.422956",
          "status": "completed"
        },
        "tags": [],
        "execution": {
          "iopub.status.busy": "2022-09-04T05:38:06.175609Z",
          "iopub.execute_input": "2022-09-04T05:38:06.175927Z",
          "iopub.status.idle": "2022-09-04T05:38:06.258737Z",
          "shell.execute_reply.started": "2022-09-04T05:38:06.175883Z",
          "shell.execute_reply": "2022-09-04T05:38:06.258121Z"
        },
        "trusted": true,
        "id": "vVCKubOxA9eC"
      },
      "execution_count": 23,
      "outputs": []
    },
    {
      "cell_type": "markdown",
      "source": [
        "<h1> Exploratory Data Analysis"
      ],
      "metadata": {
        "papermill": {
          "duration": 0.03139,
          "end_time": "2021-04-11T18:52:07.609268",
          "exception": false,
          "start_time": "2021-04-11T18:52:07.577878",
          "status": "completed"
        },
        "tags": [],
        "id": "gZdSIAmIA9eD"
      }
    },
    {
      "cell_type": "code",
      "source": [
        "train_data.head(300)"
      ],
      "metadata": {
        "papermill": {
          "duration": 0.077445,
          "end_time": "2021-04-11T18:52:07.71824",
          "exception": false,
          "start_time": "2021-04-11T18:52:07.640795",
          "status": "completed"
        },
        "tags": [],
        "execution": {
          "iopub.status.busy": "2022-09-04T05:38:06.260029Z",
          "iopub.execute_input": "2022-09-04T05:38:06.260331Z",
          "iopub.status.idle": "2022-09-04T05:38:06.286770Z",
          "shell.execute_reply.started": "2022-09-04T05:38:06.260289Z",
          "shell.execute_reply": "2022-09-04T05:38:06.285846Z"
        },
        "trusted": true,
        "colab": {
          "base_uri": "https://localhost:8080/",
          "height": 609
        },
        "id": "TgSm0z5kA9eF",
        "outputId": "684f1e68-b09e-4a81-8fd1-4bda53bdced7"
      },
      "execution_count": 24,
      "outputs": [
        {
          "output_type": "execute_result",
          "data": {
            "text/plain": [
              "     enrollee_id      city  city_development_index  gender  \\\n",
              "0           8949  city_103                   0.920    Male   \n",
              "1          29725   city_40                   0.776    Male   \n",
              "2          11561   city_21                   0.624     NaN   \n",
              "3          33241  city_115                   0.789     NaN   \n",
              "4            666  city_162                   0.767    Male   \n",
              "..           ...       ...                     ...     ...   \n",
              "295        12934  city_114                   0.926    Male   \n",
              "296        30400   city_73                   0.754    Male   \n",
              "297        26419   city_67                   0.855  Female   \n",
              "298         4188  city_103                   0.920     NaN   \n",
              "299        12117   city_74                   0.579    Male   \n",
              "\n",
              "         relevent_experience enrolled_university education_level  \\\n",
              "0    Has relevent experience       no_enrollment        Graduate   \n",
              "1     No relevent experience       no_enrollment        Graduate   \n",
              "2     No relevent experience    Full time course        Graduate   \n",
              "3     No relevent experience                 NaN        Graduate   \n",
              "4    Has relevent experience       no_enrollment         Masters   \n",
              "..                       ...                 ...             ...   \n",
              "295  Has relevent experience    Part time course        Graduate   \n",
              "296  Has relevent experience       no_enrollment        Graduate   \n",
              "297  Has relevent experience    Full time course        Graduate   \n",
              "298  Has relevent experience       no_enrollment        Graduate   \n",
              "299  Has relevent experience       no_enrollment        Graduate   \n",
              "\n",
              "    major_discipline experience company_size    company_type last_new_job  \\\n",
              "0               STEM        >20          NaN             NaN            1   \n",
              "1               STEM         15        50-99         Pvt Ltd           >4   \n",
              "2               STEM          5          NaN             NaN        never   \n",
              "3    Business Degree         <1          NaN         Pvt Ltd        never   \n",
              "4               STEM        >20        50-99  Funded Startup            4   \n",
              "..               ...        ...          ...             ...          ...   \n",
              "295             STEM         19      500-999         Pvt Ltd            2   \n",
              "296             STEM          5       10000+         Pvt Ltd            1   \n",
              "297             STEM          6    1000-4999         Pvt Ltd            2   \n",
              "298             STEM         20      100-500         Pvt Ltd           >4   \n",
              "299             STEM          4       Oct-49         Pvt Ltd            1   \n",
              "\n",
              "     training_hours  target  \n",
              "0                36       1  \n",
              "1                47       0  \n",
              "2                83       0  \n",
              "3                52       1  \n",
              "4                 8       0  \n",
              "..              ...     ...  \n",
              "295              64       0  \n",
              "296              51       0  \n",
              "297              41       0  \n",
              "298             150       0  \n",
              "299             320       0  \n",
              "\n",
              "[300 rows x 14 columns]"
            ],
            "text/html": [
              "\n",
              "  <div id=\"df-15d0c246-bc32-41bc-95da-8b5cf435213b\">\n",
              "    <div class=\"colab-df-container\">\n",
              "      <div>\n",
              "<style scoped>\n",
              "    .dataframe tbody tr th:only-of-type {\n",
              "        vertical-align: middle;\n",
              "    }\n",
              "\n",
              "    .dataframe tbody tr th {\n",
              "        vertical-align: top;\n",
              "    }\n",
              "\n",
              "    .dataframe thead th {\n",
              "        text-align: right;\n",
              "    }\n",
              "</style>\n",
              "<table border=\"1\" class=\"dataframe\">\n",
              "  <thead>\n",
              "    <tr style=\"text-align: right;\">\n",
              "      <th></th>\n",
              "      <th>enrollee_id</th>\n",
              "      <th>city</th>\n",
              "      <th>city_development_index</th>\n",
              "      <th>gender</th>\n",
              "      <th>relevent_experience</th>\n",
              "      <th>enrolled_university</th>\n",
              "      <th>education_level</th>\n",
              "      <th>major_discipline</th>\n",
              "      <th>experience</th>\n",
              "      <th>company_size</th>\n",
              "      <th>company_type</th>\n",
              "      <th>last_new_job</th>\n",
              "      <th>training_hours</th>\n",
              "      <th>target</th>\n",
              "    </tr>\n",
              "  </thead>\n",
              "  <tbody>\n",
              "    <tr>\n",
              "      <th>0</th>\n",
              "      <td>8949</td>\n",
              "      <td>city_103</td>\n",
              "      <td>0.920</td>\n",
              "      <td>Male</td>\n",
              "      <td>Has relevent experience</td>\n",
              "      <td>no_enrollment</td>\n",
              "      <td>Graduate</td>\n",
              "      <td>STEM</td>\n",
              "      <td>&gt;20</td>\n",
              "      <td>NaN</td>\n",
              "      <td>NaN</td>\n",
              "      <td>1</td>\n",
              "      <td>36</td>\n",
              "      <td>1</td>\n",
              "    </tr>\n",
              "    <tr>\n",
              "      <th>1</th>\n",
              "      <td>29725</td>\n",
              "      <td>city_40</td>\n",
              "      <td>0.776</td>\n",
              "      <td>Male</td>\n",
              "      <td>No relevent experience</td>\n",
              "      <td>no_enrollment</td>\n",
              "      <td>Graduate</td>\n",
              "      <td>STEM</td>\n",
              "      <td>15</td>\n",
              "      <td>50-99</td>\n",
              "      <td>Pvt Ltd</td>\n",
              "      <td>&gt;4</td>\n",
              "      <td>47</td>\n",
              "      <td>0</td>\n",
              "    </tr>\n",
              "    <tr>\n",
              "      <th>2</th>\n",
              "      <td>11561</td>\n",
              "      <td>city_21</td>\n",
              "      <td>0.624</td>\n",
              "      <td>NaN</td>\n",
              "      <td>No relevent experience</td>\n",
              "      <td>Full time course</td>\n",
              "      <td>Graduate</td>\n",
              "      <td>STEM</td>\n",
              "      <td>5</td>\n",
              "      <td>NaN</td>\n",
              "      <td>NaN</td>\n",
              "      <td>never</td>\n",
              "      <td>83</td>\n",
              "      <td>0</td>\n",
              "    </tr>\n",
              "    <tr>\n",
              "      <th>3</th>\n",
              "      <td>33241</td>\n",
              "      <td>city_115</td>\n",
              "      <td>0.789</td>\n",
              "      <td>NaN</td>\n",
              "      <td>No relevent experience</td>\n",
              "      <td>NaN</td>\n",
              "      <td>Graduate</td>\n",
              "      <td>Business Degree</td>\n",
              "      <td>&lt;1</td>\n",
              "      <td>NaN</td>\n",
              "      <td>Pvt Ltd</td>\n",
              "      <td>never</td>\n",
              "      <td>52</td>\n",
              "      <td>1</td>\n",
              "    </tr>\n",
              "    <tr>\n",
              "      <th>4</th>\n",
              "      <td>666</td>\n",
              "      <td>city_162</td>\n",
              "      <td>0.767</td>\n",
              "      <td>Male</td>\n",
              "      <td>Has relevent experience</td>\n",
              "      <td>no_enrollment</td>\n",
              "      <td>Masters</td>\n",
              "      <td>STEM</td>\n",
              "      <td>&gt;20</td>\n",
              "      <td>50-99</td>\n",
              "      <td>Funded Startup</td>\n",
              "      <td>4</td>\n",
              "      <td>8</td>\n",
              "      <td>0</td>\n",
              "    </tr>\n",
              "    <tr>\n",
              "      <th>...</th>\n",
              "      <td>...</td>\n",
              "      <td>...</td>\n",
              "      <td>...</td>\n",
              "      <td>...</td>\n",
              "      <td>...</td>\n",
              "      <td>...</td>\n",
              "      <td>...</td>\n",
              "      <td>...</td>\n",
              "      <td>...</td>\n",
              "      <td>...</td>\n",
              "      <td>...</td>\n",
              "      <td>...</td>\n",
              "      <td>...</td>\n",
              "      <td>...</td>\n",
              "    </tr>\n",
              "    <tr>\n",
              "      <th>295</th>\n",
              "      <td>12934</td>\n",
              "      <td>city_114</td>\n",
              "      <td>0.926</td>\n",
              "      <td>Male</td>\n",
              "      <td>Has relevent experience</td>\n",
              "      <td>Part time course</td>\n",
              "      <td>Graduate</td>\n",
              "      <td>STEM</td>\n",
              "      <td>19</td>\n",
              "      <td>500-999</td>\n",
              "      <td>Pvt Ltd</td>\n",
              "      <td>2</td>\n",
              "      <td>64</td>\n",
              "      <td>0</td>\n",
              "    </tr>\n",
              "    <tr>\n",
              "      <th>296</th>\n",
              "      <td>30400</td>\n",
              "      <td>city_73</td>\n",
              "      <td>0.754</td>\n",
              "      <td>Male</td>\n",
              "      <td>Has relevent experience</td>\n",
              "      <td>no_enrollment</td>\n",
              "      <td>Graduate</td>\n",
              "      <td>STEM</td>\n",
              "      <td>5</td>\n",
              "      <td>10000+</td>\n",
              "      <td>Pvt Ltd</td>\n",
              "      <td>1</td>\n",
              "      <td>51</td>\n",
              "      <td>0</td>\n",
              "    </tr>\n",
              "    <tr>\n",
              "      <th>297</th>\n",
              "      <td>26419</td>\n",
              "      <td>city_67</td>\n",
              "      <td>0.855</td>\n",
              "      <td>Female</td>\n",
              "      <td>Has relevent experience</td>\n",
              "      <td>Full time course</td>\n",
              "      <td>Graduate</td>\n",
              "      <td>STEM</td>\n",
              "      <td>6</td>\n",
              "      <td>1000-4999</td>\n",
              "      <td>Pvt Ltd</td>\n",
              "      <td>2</td>\n",
              "      <td>41</td>\n",
              "      <td>0</td>\n",
              "    </tr>\n",
              "    <tr>\n",
              "      <th>298</th>\n",
              "      <td>4188</td>\n",
              "      <td>city_103</td>\n",
              "      <td>0.920</td>\n",
              "      <td>NaN</td>\n",
              "      <td>Has relevent experience</td>\n",
              "      <td>no_enrollment</td>\n",
              "      <td>Graduate</td>\n",
              "      <td>STEM</td>\n",
              "      <td>20</td>\n",
              "      <td>100-500</td>\n",
              "      <td>Pvt Ltd</td>\n",
              "      <td>&gt;4</td>\n",
              "      <td>150</td>\n",
              "      <td>0</td>\n",
              "    </tr>\n",
              "    <tr>\n",
              "      <th>299</th>\n",
              "      <td>12117</td>\n",
              "      <td>city_74</td>\n",
              "      <td>0.579</td>\n",
              "      <td>Male</td>\n",
              "      <td>Has relevent experience</td>\n",
              "      <td>no_enrollment</td>\n",
              "      <td>Graduate</td>\n",
              "      <td>STEM</td>\n",
              "      <td>4</td>\n",
              "      <td>Oct-49</td>\n",
              "      <td>Pvt Ltd</td>\n",
              "      <td>1</td>\n",
              "      <td>320</td>\n",
              "      <td>0</td>\n",
              "    </tr>\n",
              "  </tbody>\n",
              "</table>\n",
              "<p>300 rows × 14 columns</p>\n",
              "</div>\n",
              "      <button class=\"colab-df-convert\" onclick=\"convertToInteractive('df-15d0c246-bc32-41bc-95da-8b5cf435213b')\"\n",
              "              title=\"Convert this dataframe to an interactive table.\"\n",
              "              style=\"display:none;\">\n",
              "        \n",
              "  <svg xmlns=\"http://www.w3.org/2000/svg\" height=\"24px\"viewBox=\"0 0 24 24\"\n",
              "       width=\"24px\">\n",
              "    <path d=\"M0 0h24v24H0V0z\" fill=\"none\"/>\n",
              "    <path d=\"M18.56 5.44l.94 2.06.94-2.06 2.06-.94-2.06-.94-.94-2.06-.94 2.06-2.06.94zm-11 1L8.5 8.5l.94-2.06 2.06-.94-2.06-.94L8.5 2.5l-.94 2.06-2.06.94zm10 10l.94 2.06.94-2.06 2.06-.94-2.06-.94-.94-2.06-.94 2.06-2.06.94z\"/><path d=\"M17.41 7.96l-1.37-1.37c-.4-.4-.92-.59-1.43-.59-.52 0-1.04.2-1.43.59L10.3 9.45l-7.72 7.72c-.78.78-.78 2.05 0 2.83L4 21.41c.39.39.9.59 1.41.59.51 0 1.02-.2 1.41-.59l7.78-7.78 2.81-2.81c.8-.78.8-2.07 0-2.86zM5.41 20L4 18.59l7.72-7.72 1.47 1.35L5.41 20z\"/>\n",
              "  </svg>\n",
              "      </button>\n",
              "      \n",
              "  <style>\n",
              "    .colab-df-container {\n",
              "      display:flex;\n",
              "      flex-wrap:wrap;\n",
              "      gap: 12px;\n",
              "    }\n",
              "\n",
              "    .colab-df-convert {\n",
              "      background-color: #E8F0FE;\n",
              "      border: none;\n",
              "      border-radius: 50%;\n",
              "      cursor: pointer;\n",
              "      display: none;\n",
              "      fill: #1967D2;\n",
              "      height: 32px;\n",
              "      padding: 0 0 0 0;\n",
              "      width: 32px;\n",
              "    }\n",
              "\n",
              "    .colab-df-convert:hover {\n",
              "      background-color: #E2EBFA;\n",
              "      box-shadow: 0px 1px 2px rgba(60, 64, 67, 0.3), 0px 1px 3px 1px rgba(60, 64, 67, 0.15);\n",
              "      fill: #174EA6;\n",
              "    }\n",
              "\n",
              "    [theme=dark] .colab-df-convert {\n",
              "      background-color: #3B4455;\n",
              "      fill: #D2E3FC;\n",
              "    }\n",
              "\n",
              "    [theme=dark] .colab-df-convert:hover {\n",
              "      background-color: #434B5C;\n",
              "      box-shadow: 0px 1px 3px 1px rgba(0, 0, 0, 0.15);\n",
              "      filter: drop-shadow(0px 1px 2px rgba(0, 0, 0, 0.3));\n",
              "      fill: #FFFFFF;\n",
              "    }\n",
              "  </style>\n",
              "\n",
              "      <script>\n",
              "        const buttonEl =\n",
              "          document.querySelector('#df-15d0c246-bc32-41bc-95da-8b5cf435213b button.colab-df-convert');\n",
              "        buttonEl.style.display =\n",
              "          google.colab.kernel.accessAllowed ? 'block' : 'none';\n",
              "\n",
              "        async function convertToInteractive(key) {\n",
              "          const element = document.querySelector('#df-15d0c246-bc32-41bc-95da-8b5cf435213b');\n",
              "          const dataTable =\n",
              "            await google.colab.kernel.invokeFunction('convertToInteractive',\n",
              "                                                     [key], {});\n",
              "          if (!dataTable) return;\n",
              "\n",
              "          const docLinkHtml = 'Like what you see? Visit the ' +\n",
              "            '<a target=\"_blank\" href=https://colab.research.google.com/notebooks/data_table.ipynb>data table notebook</a>'\n",
              "            + ' to learn more about interactive tables.';\n",
              "          element.innerHTML = '';\n",
              "          dataTable['output_type'] = 'display_data';\n",
              "          await google.colab.output.renderOutput(dataTable, element);\n",
              "          const docLink = document.createElement('div');\n",
              "          docLink.innerHTML = docLinkHtml;\n",
              "          element.appendChild(docLink);\n",
              "        }\n",
              "      </script>\n",
              "    </div>\n",
              "  </div>\n",
              "  "
            ]
          },
          "metadata": {},
          "execution_count": 24
        }
      ]
    },
    {
      "cell_type": "code",
      "source": [
        "train_data.shape"
      ],
      "metadata": {
        "papermill": {
          "duration": 0.042612,
          "end_time": "2021-04-11T18:52:07.794273",
          "exception": false,
          "start_time": "2021-04-11T18:52:07.751661",
          "status": "completed"
        },
        "tags": [],
        "execution": {
          "iopub.status.busy": "2022-09-04T05:38:06.289080Z",
          "iopub.execute_input": "2022-09-04T05:38:06.289601Z",
          "iopub.status.idle": "2022-09-04T05:38:06.297393Z",
          "shell.execute_reply.started": "2022-09-04T05:38:06.289557Z",
          "shell.execute_reply": "2022-09-04T05:38:06.296651Z"
        },
        "trusted": true,
        "colab": {
          "base_uri": "https://localhost:8080/"
        },
        "id": "w_sPRSOjA9eF",
        "outputId": "3f32564e-f96f-4bf4-88c5-7bddbfdf74dd"
      },
      "execution_count": 25,
      "outputs": [
        {
          "output_type": "execute_result",
          "data": {
            "text/plain": [
              "(19158, 14)"
            ]
          },
          "metadata": {},
          "execution_count": 25
        }
      ]
    },
    {
      "cell_type": "markdown",
      "source": [
        "It looks like some values in the dataset are NaN, we would like to further inspect to which extent it affects our data."
      ],
      "metadata": {
        "papermill": {
          "duration": 0.032676,
          "end_time": "2021-04-11T18:52:07.860951",
          "exception": false,
          "start_time": "2021-04-11T18:52:07.828275",
          "status": "completed"
        },
        "tags": [],
        "id": "OKO0RWsiA9eG"
      }
    },
    {
      "cell_type": "code",
      "source": [
        "print(\"Missing values in the train dataset:\\n\\n\",train_data.isna().sum())"
      ],
      "metadata": {
        "papermill": {
          "duration": 0.06687,
          "end_time": "2021-04-11T18:52:07.961772",
          "exception": false,
          "start_time": "2021-04-11T18:52:07.894902",
          "status": "completed"
        },
        "tags": [],
        "execution": {
          "iopub.status.busy": "2022-09-04T05:38:06.299957Z",
          "iopub.execute_input": "2022-09-04T05:38:06.300582Z",
          "iopub.status.idle": "2022-09-04T05:38:06.320999Z",
          "shell.execute_reply.started": "2022-09-04T05:38:06.300538Z",
          "shell.execute_reply": "2022-09-04T05:38:06.320025Z"
        },
        "trusted": true,
        "colab": {
          "base_uri": "https://localhost:8080/"
        },
        "id": "CkGuqz60A9eH",
        "outputId": "3d8ddf39-4d30-4b8b-b2cf-31ca58082275"
      },
      "execution_count": 26,
      "outputs": [
        {
          "output_type": "stream",
          "name": "stdout",
          "text": [
            "Missing values in the train dataset:\n",
            "\n",
            " enrollee_id                  0\n",
            "city                         0\n",
            "city_development_index       0\n",
            "gender                    4508\n",
            "relevent_experience          0\n",
            "enrolled_university        386\n",
            "education_level            460\n",
            "major_discipline          2813\n",
            "experience                  65\n",
            "company_size              5938\n",
            "company_type              6140\n",
            "last_new_job               423\n",
            "training_hours               0\n",
            "target                       0\n",
            "dtype: int64\n"
          ]
        }
      ]
    },
    {
      "cell_type": "markdown",
      "source": [
        "Let's plot all the column into barcharts to see the distribution of values. As we want our chart to be accesible, we will use colorblind palette. 👀"
      ],
      "metadata": {
        "papermill": {
          "duration": 0.034753,
          "end_time": "2021-04-11T18:52:08.030419",
          "exception": false,
          "start_time": "2021-04-11T18:52:07.995666",
          "status": "completed"
        },
        "tags": [],
        "id": "BIra5eogA9eH"
      }
    },
    {
      "cell_type": "code",
      "source": [
        "cols_with_nan_data = train_data[['gender', 'enrolled_university', 'major_discipline', 'experience', 'company_size', 'last_new_job', 'company_type', 'education_level']]   \n",
        "colorblind_palette = sns.color_palette(\"colorblind\")\n",
        "\n",
        "for i in cols_with_nan_data:\n",
        "    plt.figure(figsize=(12,6.5)) \n",
        "    plt.title(i, fontsize=15, fontweight='bold', fontname='Helvetica', ha='center')\n",
        "    sns.countplot(data = train_data[i], x = cols_with_nan_data[i], palette=colorblind_palette)\n",
        "    plt.show()"
      ],
      "metadata": {
        "papermill": {
          "duration": 2.002248,
          "end_time": "2021-04-11T18:52:10.06622",
          "exception": false,
          "start_time": "2021-04-11T18:52:08.063972",
          "status": "completed"
        },
        "tags": [],
        "execution": {
          "iopub.status.busy": "2022-09-04T05:38:06.322339Z",
          "iopub.execute_input": "2022-09-04T05:38:06.322828Z",
          "iopub.status.idle": "2022-09-04T05:38:08.860896Z",
          "shell.execute_reply.started": "2022-09-04T05:38:06.322785Z",
          "shell.execute_reply": "2022-09-04T05:38:08.860146Z"
        },
        "trusted": true,
        "colab": {
          "base_uri": "https://localhost:8080/",
          "height": 1000
        },
        "id": "2Bh0q_cnA9eI",
        "outputId": "98366958-21bb-4f5a-c452-2f86683d4adc"
      },
      "execution_count": 27,
      "outputs": [
        {
          "output_type": "display_data",
          "data": {
            "text/plain": [
              "<Figure size 864x468 with 1 Axes>"
            ],
            "image/png": "[encoded data removed]"
          },
          "metadata": {
            "needs_background": "light"
          }
        },
        {
          "output_type": "display_data",
          "data": {
            "text/plain": [
              "<Figure size 864x468 with 1 Axes>"
            ],
            "image/png": "[encoded data removed]"
          },
          "metadata": {
            "needs_background": "light"
          }
        },
        {
          "output_type": "display_data",
          "data": {
            "text/plain": [
              "<Figure size 864x468 with 1 Axes>"
            ],
            "image/png": "[encoded data removed]"
          },
          "metadata": {
            "needs_background": "light"
          }
        },
        {
          "output_type": "display_data",
          "data": {
            "text/plain": [
              "<Figure size 864x468 with 1 Axes>"
            ],
            "image/png": "[encoded data removed]"
          },
          "metadata": {
            "needs_background": "light"
          }
        },
        {
          "output_type": "display_data",
          "data": {
            "text/plain": [
              "<Figure size 864x468 with 1 Axes>"
            ],
            "image/png": "[encoded data removed]"
          },
          "metadata": {
            "needs_background": "light"
          }
        },
        {
          "output_type": "display_data",
          "data": {
            "text/plain": [
              "<Figure size 864x468 with 1 Axes>"
            ],
            "image/png": "[encoded data removed]"
          },
          "metadata": {
            "needs_background": "light"
          }
        },
        {
          "output_type": "display_data",
          "data": {
            "text/plain": [
              "<Figure size 864x468 with 1 Axes>"
            ],
            "image/png": "[encoded data removed]"
          },
          "metadata": {
            "needs_background": "light"
          }
        },
        {
          "output_type": "display_data",
          "data": {
            "text/plain": [
              "<Figure size 864x468 with 1 Axes>"
            ],
            "image/png": "[encoded data removed]"
          },
          "metadata": {
            "needs_background": "light"
          }
        }
      ]
    },
    {
      "cell_type": "markdown",
      "source": [
        "We are also interested in whether the target variable is balanced or not."
      ],
      "metadata": {
        "papermill": {
          "duration": 0.039771,
          "end_time": "2021-04-11T18:52:10.160934",
          "exception": false,
          "start_time": "2021-04-11T18:52:10.121163",
          "status": "completed"
        },
        "tags": [],
        "id": "6PVPAGJXA9eI"
      }
    },
    {
      "cell_type": "code",
      "source": [
        "plt.figure(figsize=(12,6))\n",
        "plt.title(\"Imbalanced target variable\", fontsize=15, fontweight='bold', fontname='Helvetica', ha='center')\n",
        "ax = sns.countplot(x='target', data=train_data)"
      ],
      "metadata": {
        "papermill": {
          "duration": 0.192977,
          "end_time": "2021-04-11T18:52:10.3939",
          "exception": false,
          "start_time": "2021-04-11T18:52:10.200923",
          "status": "completed"
        },
        "tags": [],
        "execution": {
          "iopub.status.busy": "2022-09-04T05:38:08.865544Z",
          "iopub.execute_input": "2022-09-04T05:38:08.866136Z",
          "iopub.status.idle": "2022-09-04T05:38:09.149796Z",
          "shell.execute_reply.started": "2022-09-04T05:38:08.866090Z",
          "shell.execute_reply": "2022-09-04T05:38:09.148856Z"
        },
        "trusted": true,
        "colab": {
          "base_uri": "https://localhost:8080/",
          "height": 406
        },
        "id": "uOsFZRwRA9eJ",
        "outputId": "aac810eb-8512-440b-86c0-075d1991687e"
      },
      "execution_count": 28,
      "outputs": [
        {
          "output_type": "display_data",
          "data": {
            "text/plain": [
              "<Figure size 864x432 with 1 Axes>"
            ],
            "image/png": "[encoded data removed]"
          },
          "metadata": {
            "needs_background": "light"
          }
        }
      ]
    },
    {
      "cell_type": "markdown",
      "source": [
        "**From the information we've learned about our dataset, we have to deal with the following challenges:**\n",
        "* There are NaN values in some attributes  that we need to replace properly (new category, replace with most frequent values, median, mean,...)\n",
        "* The target variable \"target\" is highly unbalanced, it needs to be balanced in order to be able to implement ML with fair results"
      ],
      "metadata": {
        "papermill": {
          "duration": 0.039955,
          "end_time": "2021-04-11T18:52:10.475528",
          "exception": false,
          "start_time": "2021-04-11T18:52:10.435573",
          "status": "completed"
        },
        "tags": [],
        "id": "gCNQc-EpA9eJ"
      }
    },
    {
      "cell_type": "markdown",
      "source": [
        "<h1> Data wrangling"
      ],
      "metadata": {
        "papermill": {
          "duration": 0.041202,
          "end_time": "2021-04-11T18:52:10.559719",
          "exception": false,
          "start_time": "2021-04-11T18:52:10.518517",
          "status": "completed"
        },
        "tags": [],
        "id": "Jif6BMn-A9eK"
      }
    },
    {
      "cell_type": "markdown",
      "source": [
        "<h2>Handling null values"
      ],
      "metadata": {
        "papermill": {
          "duration": 0.041027,
          "end_time": "2021-04-11T18:52:10.641429",
          "exception": false,
          "start_time": "2021-04-11T18:52:10.600402",
          "status": "completed"
        },
        "tags": [],
        "id": "iVFyH_IEA9eK"
      }
    },
    {
      "cell_type": "code",
      "source": [
        "data=train_data\n",
        "data.shape"
      ],
      "metadata": {
        "papermill": {
          "duration": 0.051342,
          "end_time": "2021-04-11T18:52:10.733444",
          "exception": false,
          "start_time": "2021-04-11T18:52:10.682102",
          "status": "completed"
        },
        "tags": [],
        "execution": {
          "iopub.status.busy": "2022-09-04T05:38:09.151895Z",
          "iopub.execute_input": "2022-09-04T05:38:09.152884Z",
          "iopub.status.idle": "2022-09-04T05:38:09.161441Z",
          "shell.execute_reply.started": "2022-09-04T05:38:09.152836Z",
          "shell.execute_reply": "2022-09-04T05:38:09.160553Z"
        },
        "trusted": true,
        "colab": {
          "base_uri": "https://localhost:8080/"
        },
        "id": "NOPMTrf_A9eL",
        "outputId": "a6d52742-f253-467a-df6d-4091e0423e24"
      },
      "execution_count": 29,
      "outputs": [
        {
          "output_type": "execute_result",
          "data": {
            "text/plain": [
              "(19158, 14)"
            ]
          },
          "metadata": {},
          "execution_count": 29
        }
      ]
    },
    {
      "cell_type": "markdown",
      "source": [
        "Now we will take care of all attributes with NaN values as shown in graphs above."
      ],
      "metadata": {
        "papermill": {
          "duration": 0.042422,
          "end_time": "2021-04-11T18:52:10.817641",
          "exception": false,
          "start_time": "2021-04-11T18:52:10.775219",
          "status": "completed"
        },
        "tags": [],
        "id": "Fpuiu3mIA9eM"
      }
    },
    {
      "cell_type": "code",
      "source": [
        "data['city'] = data['city'].str.split(\"_\",expand=True)[1].astype('int64')\n",
        "data['gender'] = data['gender'].replace(np.nan, 'Male')\n",
        "data['enrolled_university'] = data['enrolled_university'].replace(np.nan, 'no_enrollment')\n",
        "data['education_level'] = data['education_level'].replace(np.nan,'Graduate')\n",
        "data['major_discipline'] = data['major_discipline'].replace(np.nan,'STEM')\n",
        "data['experience'] = data['experience'].replace(np.nan,'>20')\n",
        "data['company_size'] = data['company_size'].replace(np.nan,'50-99')\n",
        "data['company_type'] = data['company_type'].replace(np.nan,'Pvt Ltd')\n",
        "data['last_new_job'] = data['last_new_job'].replace(np.nan,'1')"
      ],
      "metadata": {
        "papermill": {
          "duration": 0.249591,
          "end_time": "2021-04-11T18:52:11.108543",
          "exception": false,
          "start_time": "2021-04-11T18:52:10.858952",
          "status": "completed"
        },
        "tags": [],
        "execution": {
          "iopub.status.busy": "2022-09-04T05:38:09.164465Z",
          "iopub.execute_input": "2022-09-04T05:38:09.164709Z",
          "iopub.status.idle": "2022-09-04T05:38:09.238664Z",
          "shell.execute_reply.started": "2022-09-04T05:38:09.164680Z",
          "shell.execute_reply": "2022-09-04T05:38:09.237824Z"
        },
        "trusted": true,
        "id": "VD8phtPeA9eN"
      },
      "execution_count": 30,
      "outputs": []
    },
    {
      "cell_type": "markdown",
      "source": [
        "Since value 'Other' has very low frequency in gender attribute, we will get rid of it."
      ],
      "metadata": {
        "papermill": {
          "duration": 0.040849,
          "end_time": "2021-04-11T18:52:11.191403",
          "exception": false,
          "start_time": "2021-04-11T18:52:11.150554",
          "status": "completed"
        },
        "tags": [],
        "id": "dPOPEDkWA9eN"
      }
    },
    {
      "cell_type": "code",
      "source": [
        "data = data[data.gender != 'Other']"
      ],
      "metadata": {
        "papermill": {
          "duration": 0.05591,
          "end_time": "2021-04-11T18:52:11.288592",
          "exception": false,
          "start_time": "2021-04-11T18:52:11.232682",
          "status": "completed"
        },
        "tags": [],
        "execution": {
          "iopub.status.busy": "2022-09-04T05:38:09.239901Z",
          "iopub.execute_input": "2022-09-04T05:38:09.240224Z",
          "iopub.status.idle": "2022-09-04T05:38:09.253622Z",
          "shell.execute_reply.started": "2022-09-04T05:38:09.240182Z",
          "shell.execute_reply": "2022-09-04T05:38:09.253007Z"
        },
        "trusted": true,
        "id": "_Iv6xGGEA9eO"
      },
      "execution_count": 31,
      "outputs": []
    },
    {
      "cell_type": "code",
      "source": [
        "data.shape"
      ],
      "metadata": {
        "papermill": {
          "duration": 0.05176,
          "end_time": "2021-04-11T18:52:11.381701",
          "exception": false,
          "start_time": "2021-04-11T18:52:11.329941",
          "status": "completed"
        },
        "tags": [],
        "execution": {
          "iopub.status.busy": "2022-09-04T05:38:09.256133Z",
          "iopub.execute_input": "2022-09-04T05:38:09.256618Z",
          "iopub.status.idle": "2022-09-04T05:38:09.265080Z",
          "shell.execute_reply.started": "2022-09-04T05:38:09.256569Z",
          "shell.execute_reply": "2022-09-04T05:38:09.263982Z"
        },
        "trusted": true,
        "colab": {
          "base_uri": "https://localhost:8080/"
        },
        "id": "JY4NcY8ZA9eO",
        "outputId": "046d7783-8975-492c-e3ad-75d1e21a2414"
      },
      "execution_count": 32,
      "outputs": [
        {
          "output_type": "execute_result",
          "data": {
            "text/plain": [
              "(18967, 14)"
            ]
          },
          "metadata": {},
          "execution_count": 32
        }
      ]
    },
    {
      "cell_type": "markdown",
      "source": [
        "We've successfully replaced all NaN values:"
      ],
      "metadata": {
        "papermill": {
          "duration": 0.041107,
          "end_time": "2021-04-11T18:52:11.46453",
          "exception": false,
          "start_time": "2021-04-11T18:52:11.423423",
          "status": "completed"
        },
        "tags": [],
        "id": "juY6B-FfA9eP"
      }
    },
    {
      "cell_type": "code",
      "source": [
        "data.info()"
      ],
      "metadata": {
        "papermill": {
          "duration": 0.084225,
          "end_time": "2021-04-11T18:52:11.59117",
          "exception": false,
          "start_time": "2021-04-11T18:52:11.506945",
          "status": "completed"
        },
        "tags": [],
        "execution": {
          "iopub.status.busy": "2022-09-04T05:38:09.266568Z",
          "iopub.execute_input": "2022-09-04T05:38:09.267386Z",
          "iopub.status.idle": "2022-09-04T05:38:09.304158Z",
          "shell.execute_reply.started": "2022-09-04T05:38:09.267342Z",
          "shell.execute_reply": "2022-09-04T05:38:09.303259Z"
        },
        "trusted": true,
        "colab": {
          "base_uri": "https://localhost:8080/"
        },
        "id": "fQWyhcr-A9eP",
        "outputId": "c13f957c-e96c-458d-8b34-39e02bf402e6"
      },
      "execution_count": 33,
      "outputs": [
        {
          "output_type": "stream",
          "name": "stdout",
          "text": [
            "<class 'pandas.core.frame.DataFrame'>\n",
            "Int64Index: 18967 entries, 0 to 19157\n",
            "Data columns (total 14 columns):\n",
            " #   Column                  Non-Null Count  Dtype  \n",
            "---  ------                  --------------  -----  \n",
            " 0   enrollee_id             18967 non-null  int64  \n",
            " 1   city                    18967 non-null  int64  \n",
            " 2   city_development_index  18967 non-null  float64\n",
            " 3   gender                  18967 non-null  object \n",
            " 4   relevent_experience     18967 non-null  object \n",
            " 5   enrolled_university     18967 non-null  object \n",
            " 6   education_level         18967 non-null  object \n",
            " 7   major_discipline        18967 non-null  object \n",
            " 8   experience              18967 non-null  object \n",
            " 9   company_size            18967 non-null  object \n",
            " 10  company_type            18967 non-null  object \n",
            " 11  last_new_job            18967 non-null  object \n",
            " 12  training_hours          18967 non-null  int64  \n",
            " 13  target                  18967 non-null  int64  \n",
            "dtypes: float64(1), int64(4), object(9)\n",
            "memory usage: 2.2+ MB\n"
          ]
        }
      ]
    },
    {
      "cell_type": "markdown",
      "source": [
        "<h2> Conversion of categorical variables into numeric variables"
      ],
      "metadata": {
        "papermill": {
          "duration": 0.042049,
          "end_time": "2021-04-11T18:52:11.676267",
          "exception": false,
          "start_time": "2021-04-11T18:52:11.634218",
          "status": "completed"
        },
        "tags": [],
        "id": "1iB14gUJA9eQ"
      }
    },
    {
      "cell_type": "code",
      "source": [
        "pd.options.mode.chained_assignment = None\n",
        "ordinal_atributes = ['education_level', 'experience', 'company_size', 'last_new_job']\n",
        "\n",
        "cardinal_atributes = ['gender', 'relevent_experience', 'enrolled_university', 'major_discipline', 'company_type']\n",
        "\n",
        "ordinal_pipeline = Pipeline([\n",
        "    ('OrdinalEncoder',OrdinalEncoder(categories=[\n",
        "                                    ['Unknown', 'Primary School',  'High School', 'Graduate', 'Masters', 'Phd'],\n",
        "                                    'Unknown,<1,1,2,3,4,5,6,7,8,9,10,11,12,13,14,15,16,17,18,19,20,>20'.split(','),\n",
        "                                    ['Unknown','<10', '10/49', '50-99','Oct-49', '100-500', '500-999' ,'1000-4999', '5000-9999', '10000+'],\n",
        "                                    ['Unknown','1', '2', '3', '4', '>4', 'never']\n",
        "                                ]))\n",
        "])\n",
        "\n",
        "ordinal_pipeline.fit(data[ordinal_atributes])\n",
        "data[ordinal_atributes] = ordinal_pipeline.transform(data[ordinal_atributes])\n",
        "data = pd.get_dummies(data, columns=cardinal_atributes)\n",
        "data.head()"
      ],
      "metadata": {
        "papermill": {
          "duration": 0.17015,
          "end_time": "2021-04-11T18:52:11.888453",
          "exception": false,
          "start_time": "2021-04-11T18:52:11.718303",
          "status": "completed"
        },
        "tags": [],
        "execution": {
          "iopub.status.busy": "2022-09-04T05:38:09.305449Z",
          "iopub.execute_input": "2022-09-04T05:38:09.305910Z",
          "iopub.status.idle": "2022-09-04T05:38:09.419427Z",
          "shell.execute_reply.started": "2022-09-04T05:38:09.305869Z",
          "shell.execute_reply": "2022-09-04T05:38:09.418423Z"
        },
        "trusted": true,
        "colab": {
          "base_uri": "https://localhost:8080/",
          "height": 317
        },
        "id": "iIL1yz7UA9eQ",
        "outputId": "8096eb87-ee84-4911-dd65-fc4329a5d6b1"
      },
      "execution_count": 34,
      "outputs": [
        {
          "output_type": "execute_result",
          "data": {
            "text/plain": [
              "   enrollee_id  city  city_development_index  education_level  experience  \\\n",
              "0         8949   103                   0.920              3.0        22.0   \n",
              "1        29725    40                   0.776              3.0        16.0   \n",
              "2        11561    21                   0.624              3.0         6.0   \n",
              "3        33241   115                   0.789              3.0         1.0   \n",
              "4          666   162                   0.767              4.0        22.0   \n",
              "\n",
              "   company_size  last_new_job  training_hours  target  gender_Female  ...  \\\n",
              "0           3.0           1.0              36       1              0  ...   \n",
              "1           3.0           5.0              47       0              0  ...   \n",
              "2           3.0           6.0              83       0              0  ...   \n",
              "3           3.0           6.0              52       1              0  ...   \n",
              "4           3.0           4.0               8       0              0  ...   \n",
              "\n",
              "   major_discipline_Humanities  major_discipline_No Major  \\\n",
              "0                            0                          0   \n",
              "1                            0                          0   \n",
              "2                            0                          0   \n",
              "3                            0                          0   \n",
              "4                            0                          0   \n",
              "\n",
              "   major_discipline_Other  major_discipline_STEM  \\\n",
              "0                       0                      1   \n",
              "1                       0                      1   \n",
              "2                       0                      1   \n",
              "3                       0                      0   \n",
              "4                       0                      1   \n",
              "\n",
              "   company_type_Early Stage Startup  company_type_Funded Startup  \\\n",
              "0                                 0                            0   \n",
              "1                                 0                            0   \n",
              "2                                 0                            0   \n",
              "3                                 0                            0   \n",
              "4                                 0                            1   \n",
              "\n",
              "   company_type_NGO  company_type_Other  company_type_Public Sector  \\\n",
              "0                 0                   0                           0   \n",
              "1                 0                   0                           0   \n",
              "2                 0                   0                           0   \n",
              "3                 0                   0                           0   \n",
              "4                 0                   0                           0   \n",
              "\n",
              "   company_type_Pvt Ltd  \n",
              "0                     1  \n",
              "1                     1  \n",
              "2                     1  \n",
              "3                     1  \n",
              "4                     0  \n",
              "\n",
              "[5 rows x 28 columns]"
            ],
            "text/html": [
              "\n",
              "  <div id=\"df-eddbd85d-8e72-4eb3-86a7-2fd20df4d1a7\">\n",
              "    <div class=\"colab-df-container\">\n",
              "      <div>\n",
              "<style scoped>\n",
              "    .dataframe tbody tr th:only-of-type {\n",
              "        vertical-align: middle;\n",
              "    }\n",
              "\n",
              "    .dataframe tbody tr th {\n",
              "        vertical-align: top;\n",
              "    }\n",
              "\n",
              "    .dataframe thead th {\n",
              "        text-align: right;\n",
              "    }\n",
              "</style>\n",
              "<table border=\"1\" class=\"dataframe\">\n",
              "  <thead>\n",
              "    <tr style=\"text-align: right;\">\n",
              "      <th></th>\n",
              "      <th>enrollee_id</th>\n",
              "      <th>city</th>\n",
              "      <th>city_development_index</th>\n",
              "      <th>education_level</th>\n",
              "      <th>experience</th>\n",
              "      <th>company_size</th>\n",
              "      <th>last_new_job</th>\n",
              "      <th>training_hours</th>\n",
              "      <th>target</th>\n",
              "      <th>gender_Female</th>\n",
              "      <th>...</th>\n",
              "      <th>major_discipline_Humanities</th>\n",
              "      <th>major_discipline_No Major</th>\n",
              "      <th>major_discipline_Other</th>\n",
              "      <th>major_discipline_STEM</th>\n",
              "      <th>company_type_Early Stage Startup</th>\n",
              "      <th>company_type_Funded Startup</th>\n",
              "      <th>company_type_NGO</th>\n",
              "      <th>company_type_Other</th>\n",
              "      <th>company_type_Public Sector</th>\n",
              "      <th>company_type_Pvt Ltd</th>\n",
              "    </tr>\n",
              "  </thead>\n",
              "  <tbody>\n",
              "    <tr>\n",
              "      <th>0</th>\n",
              "      <td>8949</td>\n",
              "      <td>103</td>\n",
              "      <td>0.920</td>\n",
              "      <td>3.0</td>\n",
              "      <td>22.0</td>\n",
              "      <td>3.0</td>\n",
              "      <td>1.0</td>\n",
              "      <td>36</td>\n",
              "      <td>1</td>\n",
              "      <td>0</td>\n",
              "      <td>...</td>\n",
              "      <td>0</td>\n",
              "      <td>0</td>\n",
              "      <td>0</td>\n",
              "      <td>1</td>\n",
              "      <td>0</td>\n",
              "      <td>0</td>\n",
              "      <td>0</td>\n",
              "      <td>0</td>\n",
              "      <td>0</td>\n",
              "      <td>1</td>\n",
              "    </tr>\n",
              "    <tr>\n",
              "      <th>1</th>\n",
              "      <td>29725</td>\n",
              "      <td>40</td>\n",
              "      <td>0.776</td>\n",
              "      <td>3.0</td>\n",
              "      <td>16.0</td>\n",
              "      <td>3.0</td>\n",
              "      <td>5.0</td>\n",
              "      <td>47</td>\n",
              "      <td>0</td>\n",
              "      <td>0</td>\n",
              "      <td>...</td>\n",
              "      <td>0</td>\n",
              "      <td>0</td>\n",
              "      <td>0</td>\n",
              "      <td>1</td>\n",
              "      <td>0</td>\n",
              "      <td>0</td>\n",
              "      <td>0</td>\n",
              "      <td>0</td>\n",
              "      <td>0</td>\n",
              "      <td>1</td>\n",
              "    </tr>\n",
              "    <tr>\n",
              "      <th>2</th>\n",
              "      <td>11561</td>\n",
              "      <td>21</td>\n",
              "      <td>0.624</td>\n",
              "      <td>3.0</td>\n",
              "      <td>6.0</td>\n",
              "      <td>3.0</td>\n",
              "      <td>6.0</td>\n",
              "      <td>83</td>\n",
              "      <td>0</td>\n",
              "      <td>0</td>\n",
              "      <td>...</td>\n",
              "      <td>0</td>\n",
              "      <td>0</td>\n",
              "      <td>0</td>\n",
              "      <td>1</td>\n",
              "      <td>0</td>\n",
              "      <td>0</td>\n",
              "      <td>0</td>\n",
              "      <td>0</td>\n",
              "      <td>0</td>\n",
              "      <td>1</td>\n",
              "    </tr>\n",
              "    <tr>\n",
              "      <th>3</th>\n",
              "      <td>33241</td>\n",
              "      <td>115</td>\n",
              "      <td>0.789</td>\n",
              "      <td>3.0</td>\n",
              "      <td>1.0</td>\n",
              "      <td>3.0</td>\n",
              "      <td>6.0</td>\n",
              "      <td>52</td>\n",
              "      <td>1</td>\n",
              "      <td>0</td>\n",
              "      <td>...</td>\n",
              "      <td>0</td>\n",
              "      <td>0</td>\n",
              "      <td>0</td>\n",
              "      <td>0</td>\n",
              "      <td>0</td>\n",
              "      <td>0</td>\n",
              "      <td>0</td>\n",
              "      <td>0</td>\n",
              "      <td>0</td>\n",
              "      <td>1</td>\n",
              "    </tr>\n",
              "    <tr>\n",
              "      <th>4</th>\n",
              "      <td>666</td>\n",
              "      <td>162</td>\n",
              "      <td>0.767</td>\n",
              "      <td>4.0</td>\n",
              "      <td>22.0</td>\n",
              "      <td>3.0</td>\n",
              "      <td>4.0</td>\n",
              "      <td>8</td>\n",
              "      <td>0</td>\n",
              "      <td>0</td>\n",
              "      <td>...</td>\n",
              "      <td>0</td>\n",
              "      <td>0</td>\n",
              "      <td>0</td>\n",
              "      <td>1</td>\n",
              "      <td>0</td>\n",
              "      <td>1</td>\n",
              "      <td>0</td>\n",
              "      <td>0</td>\n",
              "      <td>0</td>\n",
              "      <td>0</td>\n",
              "    </tr>\n",
              "  </tbody>\n",
              "</table>\n",
              "<p>5 rows × 28 columns</p>\n",
              "</div>\n",
              "      <button class=\"colab-df-convert\" onclick=\"convertToInteractive('df-eddbd85d-8e72-4eb3-86a7-2fd20df4d1a7')\"\n",
              "              title=\"Convert this dataframe to an interactive table.\"\n",
              "              style=\"display:none;\">\n",
              "        \n",
              "  <svg xmlns=\"http://www.w3.org/2000/svg\" height=\"24px\"viewBox=\"0 0 24 24\"\n",
              "       width=\"24px\">\n",
              "    <path d=\"M0 0h24v24H0V0z\" fill=\"none\"/>\n",
              "    <path d=\"M18.56 5.44l.94 2.06.94-2.06 2.06-.94-2.06-.94-.94-2.06-.94 2.06-2.06.94zm-11 1L8.5 8.5l.94-2.06 2.06-.94-2.06-.94L8.5 2.5l-.94 2.06-2.06.94zm10 10l.94 2.06.94-2.06 2.06-.94-2.06-.94-.94-2.06-.94 2.06-2.06.94z\"/><path d=\"M17.41 7.96l-1.37-1.37c-.4-.4-.92-.59-1.43-.59-.52 0-1.04.2-1.43.59L10.3 9.45l-7.72 7.72c-.78.78-.78 2.05 0 2.83L4 21.41c.39.39.9.59 1.41.59.51 0 1.02-.2 1.41-.59l7.78-7.78 2.81-2.81c.8-.78.8-2.07 0-2.86zM5.41 20L4 18.59l7.72-7.72 1.47 1.35L5.41 20z\"/>\n",
              "  </svg>\n",
              "      </button>\n",
              "      \n",
              "  <style>\n",
              "    .colab-df-container {\n",
              "      display:flex;\n",
              "      flex-wrap:wrap;\n",
              "      gap: 12px;\n",
              "    }\n",
              "\n",
              "    .colab-df-convert {\n",
              "      background-color: #E8F0FE;\n",
              "      border: none;\n",
              "      border-radius: 50%;\n",
              "      cursor: pointer;\n",
              "      display: none;\n",
              "      fill: #1967D2;\n",
              "      height: 32px;\n",
              "      padding: 0 0 0 0;\n",
              "      width: 32px;\n",
              "    }\n",
              "\n",
              "    .colab-df-convert:hover {\n",
              "      background-color: #E2EBFA;\n",
              "      box-shadow: 0px 1px 2px rgba(60, 64, 67, 0.3), 0px 1px 3px 1px rgba(60, 64, 67, 0.15);\n",
              "      fill: #174EA6;\n",
              "    }\n",
              "\n",
              "    [theme=dark] .colab-df-convert {\n",
              "      background-color: #3B4455;\n",
              "      fill: #D2E3FC;\n",
              "    }\n",
              "\n",
              "    [theme=dark] .colab-df-convert:hover {\n",
              "      background-color: #434B5C;\n",
              "      box-shadow: 0px 1px 3px 1px rgba(0, 0, 0, 0.15);\n",
              "      filter: drop-shadow(0px 1px 2px rgba(0, 0, 0, 0.3));\n",
              "      fill: #FFFFFF;\n",
              "    }\n",
              "  </style>\n",
              "\n",
              "      <script>\n",
              "        const buttonEl =\n",
              "          document.querySelector('#df-eddbd85d-8e72-4eb3-86a7-2fd20df4d1a7 button.colab-df-convert');\n",
              "        buttonEl.style.display =\n",
              "          google.colab.kernel.accessAllowed ? 'block' : 'none';\n",
              "\n",
              "        async function convertToInteractive(key) {\n",
              "          const element = document.querySelector('#df-eddbd85d-8e72-4eb3-86a7-2fd20df4d1a7');\n",
              "          const dataTable =\n",
              "            await google.colab.kernel.invokeFunction('convertToInteractive',\n",
              "                                                     [key], {});\n",
              "          if (!dataTable) return;\n",
              "\n",
              "          const docLinkHtml = 'Like what you see? Visit the ' +\n",
              "            '<a target=\"_blank\" href=https://colab.research.google.com/notebooks/data_table.ipynb>data table notebook</a>'\n",
              "            + ' to learn more about interactive tables.';\n",
              "          element.innerHTML = '';\n",
              "          dataTable['output_type'] = 'display_data';\n",
              "          await google.colab.output.renderOutput(dataTable, element);\n",
              "          const docLink = document.createElement('div');\n",
              "          docLink.innerHTML = docLinkHtml;\n",
              "          element.appendChild(docLink);\n",
              "        }\n",
              "      </script>\n",
              "    </div>\n",
              "  </div>\n",
              "  "
            ]
          },
          "metadata": {},
          "execution_count": 34
        }
      ]
    },
    {
      "cell_type": "markdown",
      "source": [
        "Let's check how many columns do we have at this moment."
      ],
      "metadata": {
        "papermill": {
          "duration": 0.043809,
          "end_time": "2021-04-11T18:52:11.975477",
          "exception": false,
          "start_time": "2021-04-11T18:52:11.931668",
          "status": "completed"
        },
        "tags": [],
        "id": "6E9Y0AGhA9eR"
      }
    },
    {
      "cell_type": "code",
      "source": [
        "data.info()"
      ],
      "metadata": {
        "papermill": {
          "duration": 0.066327,
          "end_time": "2021-04-11T18:52:12.086498",
          "exception": false,
          "start_time": "2021-04-11T18:52:12.020171",
          "status": "completed"
        },
        "tags": [],
        "execution": {
          "iopub.status.busy": "2022-09-04T05:38:09.424438Z",
          "iopub.execute_input": "2022-09-04T05:38:09.424903Z",
          "iopub.status.idle": "2022-09-04T05:38:09.444674Z",
          "shell.execute_reply.started": "2022-09-04T05:38:09.424858Z",
          "shell.execute_reply": "2022-09-04T05:38:09.443835Z"
        },
        "trusted": true,
        "colab": {
          "base_uri": "https://localhost:8080/"
        },
        "id": "DFTOZll7A9eR",
        "outputId": "0d7cf1a0-8fad-4982-9d7d-499a70b159fd"
      },
      "execution_count": 35,
      "outputs": [
        {
          "output_type": "stream",
          "name": "stdout",
          "text": [
            "<class 'pandas.core.frame.DataFrame'>\n",
            "Int64Index: 18967 entries, 0 to 19157\n",
            "Data columns (total 28 columns):\n",
            " #   Column                                       Non-Null Count  Dtype  \n",
            "---  ------                                       --------------  -----  \n",
            " 0   enrollee_id                                  18967 non-null  int64  \n",
            " 1   city                                         18967 non-null  int64  \n",
            " 2   city_development_index                       18967 non-null  float64\n",
            " 3   education_level                              18967 non-null  float64\n",
            " 4   experience                                   18967 non-null  float64\n",
            " 5   company_size                                 18967 non-null  float64\n",
            " 6   last_new_job                                 18967 non-null  float64\n",
            " 7   training_hours                               18967 non-null  int64  \n",
            " 8   target                                       18967 non-null  int64  \n",
            " 9   gender_Female                                18967 non-null  uint8  \n",
            " 10  gender_Male                                  18967 non-null  uint8  \n",
            " 11  relevent_experience_Has relevent experience  18967 non-null  uint8  \n",
            " 12  relevent_experience_No relevent experience   18967 non-null  uint8  \n",
            " 13  enrolled_university_Full time course         18967 non-null  uint8  \n",
            " 14  enrolled_university_Part time course         18967 non-null  uint8  \n",
            " 15  enrolled_university_no_enrollment            18967 non-null  uint8  \n",
            " 16  major_discipline_Arts                        18967 non-null  uint8  \n",
            " 17  major_discipline_Business Degree             18967 non-null  uint8  \n",
            " 18  major_discipline_Humanities                  18967 non-null  uint8  \n",
            " 19  major_discipline_No Major                    18967 non-null  uint8  \n",
            " 20  major_discipline_Other                       18967 non-null  uint8  \n",
            " 21  major_discipline_STEM                        18967 non-null  uint8  \n",
            " 22  company_type_Early Stage Startup             18967 non-null  uint8  \n",
            " 23  company_type_Funded Startup                  18967 non-null  uint8  \n",
            " 24  company_type_NGO                             18967 non-null  uint8  \n",
            " 25  company_type_Other                           18967 non-null  uint8  \n",
            " 26  company_type_Public Sector                   18967 non-null  uint8  \n",
            " 27  company_type_Pvt Ltd                         18967 non-null  uint8  \n",
            "dtypes: float64(5), int64(4), uint8(19)\n",
            "memory usage: 1.8 MB\n"
          ]
        }
      ]
    },
    {
      "cell_type": "markdown",
      "source": [
        "<h2> Balancing target variable"
      ],
      "metadata": {
        "papermill": {
          "duration": 0.043639,
          "end_time": "2021-04-11T18:52:12.175157",
          "exception": false,
          "start_time": "2021-04-11T18:52:12.131518",
          "status": "completed"
        },
        "tags": [],
        "id": "vTyEcMivA9eR"
      }
    },
    {
      "cell_type": "markdown",
      "source": [
        "To balance our target variable, we will use RandomOverSampler from imblearn library."
      ],
      "metadata": {
        "papermill": {
          "duration": 0.043549,
          "end_time": "2021-04-11T18:52:12.262452",
          "exception": false,
          "start_time": "2021-04-11T18:52:12.218903",
          "status": "completed"
        },
        "tags": [],
        "id": "Uzsqj4_tA9eR"
      }
    },
    {
      "cell_type": "code",
      "source": [
        "columns = data.columns.tolist()\n",
        "columns = [c for c in columns if c not in ['target']]\n",
        "y = data['target']\n",
        "X = data[columns]\n",
        "\n",
        "ros = RandomOverSampler(sampling_strategy='minority')\n",
        "X_balanced, y_balanced = ros.fit_resample(X, y)\n",
        "print(f\"Imbalanced target class: {Counter(y)}\\n\\nBalanced target class: {Counter(y_balanced)}\\n\")\n",
        "print(X_balanced.shape[0] - data.shape[0], 'new random picked points')"
      ],
      "metadata": {
        "papermill": {
          "duration": 0.108519,
          "end_time": "2021-04-11T18:52:12.415174",
          "exception": false,
          "start_time": "2021-04-11T18:52:12.306655",
          "status": "completed"
        },
        "tags": [],
        "execution": {
          "iopub.status.busy": "2022-09-04T05:38:09.446064Z",
          "iopub.execute_input": "2022-09-04T05:38:09.446539Z",
          "iopub.status.idle": "2022-09-04T05:38:09.528747Z",
          "shell.execute_reply.started": "2022-09-04T05:38:09.446499Z",
          "shell.execute_reply": "2022-09-04T05:38:09.528055Z"
        },
        "trusted": true,
        "colab": {
          "base_uri": "https://localhost:8080/"
        },
        "id": "JxIuuO9FA9eS",
        "outputId": "49d60f2d-ade9-41d1-cc38-a15bb08067e2"
      },
      "execution_count": 36,
      "outputs": [
        {
          "output_type": "stream",
          "name": "stdout",
          "text": [
            "Imbalanced target class: Counter({0: 14240, 1: 4727})\n",
            "\n",
            "Balanced target class: Counter({1: 14240, 0: 14240})\n",
            "\n",
            "9513 new random picked points\n"
          ]
        }
      ]
    },
    {
      "cell_type": "markdown",
      "source": [
        "We can see our result in barchart below 📊 ->"
      ],
      "metadata": {
        "papermill": {
          "duration": 0.043962,
          "end_time": "2021-04-11T18:52:12.503493",
          "exception": false,
          "start_time": "2021-04-11T18:52:12.459531",
          "status": "completed"
        },
        "tags": [],
        "id": "EupdwICoA9eS"
      }
    },
    {
      "cell_type": "code",
      "source": [
        "plt.figure(figsize=(12,6))\n",
        "plt.title(\"Balanced target variable\", fontsize=15, fontweight='bold', fontname='Helvetica', ha='center')\n",
        "ax = sns.countplot(x=y_balanced, data=data)"
      ],
      "metadata": {
        "papermill": {
          "duration": 0.218279,
          "end_time": "2021-04-11T18:52:12.767494",
          "exception": false,
          "start_time": "2021-04-11T18:52:12.549215",
          "status": "completed"
        },
        "tags": [],
        "execution": {
          "iopub.status.busy": "2022-09-04T05:38:09.529981Z",
          "iopub.execute_input": "2022-09-04T05:38:09.530442Z",
          "iopub.status.idle": "2022-09-04T05:38:09.819844Z",
          "shell.execute_reply.started": "2022-09-04T05:38:09.530398Z",
          "shell.execute_reply": "2022-09-04T05:38:09.818990Z"
        },
        "trusted": true,
        "colab": {
          "base_uri": "https://localhost:8080/",
          "height": 406
        },
        "id": "Rzw2vb5GA9eS",
        "outputId": "046b009e-572d-4c70-8b78-fee370f239db"
      },
      "execution_count": 37,
      "outputs": [
        {
          "output_type": "display_data",
          "data": {
            "text/plain": [
              "<Figure size 864x432 with 1 Axes>"
            ],
            "image/png": "[encoded data removed]"
          },
          "metadata": {
            "needs_background": "light"
          }
        }
      ]
    },
    {
      "cell_type": "markdown",
      "source": [
        "Perfect! Our dataset is now balanced. 😎"
      ],
      "metadata": {
        "papermill": {
          "duration": 0.044759,
          "end_time": "2021-04-11T18:52:12.85858",
          "exception": false,
          "start_time": "2021-04-11T18:52:12.813821",
          "status": "completed"
        },
        "tags": [],
        "id": "5jMytRb0A9eT"
      }
    },
    {
      "cell_type": "markdown",
      "source": [
        "Our dataset is all set and ready to be used in various ML models! 🔎"
      ],
      "metadata": {
        "papermill": {
          "duration": 0.048233,
          "end_time": "2021-04-11T18:52:13.168573",
          "exception": false,
          "start_time": "2021-04-11T18:52:13.12034",
          "status": "completed"
        },
        "tags": [],
        "id": "It1X-vidA9eT"
      }
    },
    {
      "cell_type": "markdown",
      "source": [
        "<h1> Models"
      ],
      "metadata": {
        "papermill": {
          "duration": 0.045795,
          "end_time": "2021-04-11T18:52:13.260527",
          "exception": false,
          "start_time": "2021-04-11T18:52:13.214732",
          "status": "completed"
        },
        "tags": [],
        "id": "myRNmUuQA9eU"
      }
    },
    {
      "cell_type": "code",
      "source": [
        "X_ros,X_test,y_ros,y_test = train_test_split(X_balanced, y_balanced,test_size=0.3,random_state=1)\n",
        "X_ros.shape,X_test.shape,y_ros.shape,y_test.shape"
      ],
      "metadata": {
        "papermill": {
          "duration": 0.075637,
          "end_time": "2021-04-11T18:52:13.382418",
          "exception": false,
          "start_time": "2021-04-11T18:52:13.306781",
          "status": "completed"
        },
        "tags": [],
        "execution": {
          "iopub.status.busy": "2022-09-04T05:38:09.821633Z",
          "iopub.execute_input": "2022-09-04T05:38:09.822285Z",
          "iopub.status.idle": "2022-09-04T05:38:09.846396Z",
          "shell.execute_reply.started": "2022-09-04T05:38:09.822237Z",
          "shell.execute_reply": "2022-09-04T05:38:09.845038Z"
        },
        "trusted": true,
        "colab": {
          "base_uri": "https://localhost:8080/"
        },
        "id": "8bG8x8cdA9eU",
        "outputId": "a6852d58-da30-4a7d-993f-b95ae4a0e1f3"
      },
      "execution_count": 38,
      "outputs": [
        {
          "output_type": "execute_result",
          "data": {
            "text/plain": [
              "((19936, 27), (8544, 27), (19936,), (8544,))"
            ]
          },
          "metadata": {},
          "execution_count": 38
        }
      ]
    },
    {
      "cell_type": "markdown",
      "source": [
        "**KNN**"
      ],
      "metadata": {
        "papermill": {
          "duration": 0.046114,
          "end_time": "2021-04-11T18:52:13.474981",
          "exception": false,
          "start_time": "2021-04-11T18:52:13.428867",
          "status": "completed"
        },
        "tags": [],
        "id": "lJ8xGAaxA9eV"
      }
    },
    {
      "cell_type": "code",
      "source": [
        "knnc = KNeighborsClassifier(n_neighbors=4)\n",
        "knnc.fit(X_ros, y_ros)\n",
        "y_pred_knnc = knnc.predict(X_test)\n",
        "\n",
        "print(classification_report(y_test, y_pred_knnc))\n",
        "print(\"Accuracy score of KNN : {:.2f}\".format(accuracy_score(y_pred_knnc,y_test)))\n",
        "print(\"Recall score of KNN: {:.2f}\".format(recall_score(y_pred_knnc,y_test,average='macro',zero_division=True)))\n",
        "print(\"Precision score of KNN: {:.2f}\".format(precision_score(y_pred_knnc,y_test,zero_division = True)))\n",
        "print(\"F1 score of KNN: {:.2f}\".format(f1_score(y_pred_knnc,y_test,zero_division=True)))"
      ],
      "metadata": {
        "papermill": {
          "duration": 0.136442,
          "end_time": "2021-04-11T18:52:13.658313",
          "exception": false,
          "start_time": "2021-04-11T18:52:13.521871",
          "status": "completed"
        },
        "tags": [],
        "execution": {
          "iopub.status.busy": "2022-09-04T05:38:09.850337Z",
          "iopub.execute_input": "2022-09-04T05:38:09.850632Z",
          "iopub.status.idle": "2022-09-04T05:38:10.368210Z",
          "shell.execute_reply.started": "2022-09-04T05:38:09.850581Z",
          "shell.execute_reply": "2022-09-04T05:38:10.367365Z"
        },
        "trusted": true,
        "colab": {
          "base_uri": "https://localhost:8080/"
        },
        "id": "Aojip1QRA9eV",
        "outputId": "1ed7e7c1-3d76-4838-9e54-30188329fc58"
      },
      "execution_count": 39,
      "outputs": [
        {
          "output_type": "stream",
          "name": "stdout",
          "text": [
            "              precision    recall  f1-score   support\n",
            "\n",
            "           0       0.65      0.69      0.67      4232\n",
            "           1       0.68      0.64      0.65      4312\n",
            "\n",
            "    accuracy                           0.66      8544\n",
            "   macro avg       0.66      0.66      0.66      8544\n",
            "weighted avg       0.66      0.66      0.66      8544\n",
            "\n",
            "Accuracy score of KNN : 0.66\n",
            "Recall score of KNN: 0.66\n",
            "Precision score of KNN: 0.64\n",
            "F1 score of KNN: 0.65\n"
          ]
        }
      ]
    },
    {
      "cell_type": "code",
      "source": [
        "params = {'n_neighbors': np.arange(1, 31, 2), \"metric\": [\"euclidean\"]}\n",
        "grid_search_cv = GridSearchCV(KNeighborsClassifier(), params, verbose=1, cv=3)\n",
        "grid_search_cv.fit(X_ros, y_ros)\n",
        "# returns the best model\n",
        "grid_search_cv.best_estimator_\n",
        "# the best parameters\n",
        "grid_search_cv.best_params_\n",
        "# results obtained by the best model\n",
        "knn_accuracy = grid_search_cv.best_score_ \n",
        "print('The accuracy score with using the tuned KNN is: ', knn_accuracy)"
      ],
      "metadata": {
        "papermill": {
          "duration": 0.06878,
          "end_time": "2021-04-11T18:52:13.774254",
          "exception": false,
          "start_time": "2021-04-11T18:52:13.705474",
          "status": "completed"
        },
        "tags": [],
        "execution": {
          "iopub.status.busy": "2022-09-04T05:38:10.369940Z",
          "iopub.execute_input": "2022-09-04T05:38:10.370690Z",
          "iopub.status.idle": "2022-09-04T05:38:26.877519Z",
          "shell.execute_reply.started": "2022-09-04T05:38:10.370645Z",
          "shell.execute_reply": "2022-09-04T05:38:26.876637Z"
        },
        "trusted": true,
        "colab": {
          "base_uri": "https://localhost:8080/"
        },
        "id": "wv0aoWa1A9eV",
        "outputId": "64d70f3e-5464-4a13-8694-76b431af17b0"
      },
      "execution_count": 40,
      "outputs": [
        {
          "output_type": "stream",
          "name": "stdout",
          "text": [
            "Fitting 3 folds for each of 15 candidates, totalling 45 fits\n",
            "The accuracy score with using the tuned KNN is:  0.7541132212643241\n"
          ]
        }
      ]
    },
    {
      "cell_type": "code",
      "source": [
        "plot_roc_curve(grid_search_cv, X_test, y_test)"
      ],
      "metadata": {
        "papermill": {
          "duration": 0.067471,
          "end_time": "2021-04-11T18:52:13.889332",
          "exception": false,
          "start_time": "2021-04-11T18:52:13.821861",
          "status": "completed"
        },
        "tags": [],
        "execution": {
          "iopub.status.busy": "2022-09-04T05:38:26.883194Z",
          "iopub.execute_input": "2022-09-04T05:38:26.884122Z",
          "iopub.status.idle": "2022-09-04T05:38:27.268488Z",
          "shell.execute_reply.started": "2022-09-04T05:38:26.884061Z",
          "shell.execute_reply": "2022-09-04T05:38:27.267674Z"
        },
        "trusted": true,
        "colab": {
          "base_uri": "https://localhost:8080/",
          "height": 354
        },
        "id": "wHadO4OQA9eW",
        "outputId": "e1882491-0d3d-4211-edad-3769ea58dda5"
      },
      "execution_count": 41,
      "outputs": [
        {
          "output_type": "stream",
          "name": "stderr",
          "text": [
            "/usr/local/lib/python3.7/dist-packages/sklearn/utils/deprecation.py:87: FutureWarning: Function plot_roc_curve is deprecated; Function :func:`plot_roc_curve` is deprecated in 1.0 and will be removed in 1.2. Use one of the class methods: :meth:`sklearn.metric.RocCurveDisplay.from_predictions` or :meth:`sklearn.metric.RocCurveDisplay.from_estimator`.\n",
            "  warnings.warn(msg, category=FutureWarning)\n"
          ]
        },
        {
          "output_type": "execute_result",
          "data": {
            "text/plain": [
              "<sklearn.metrics._plot.roc_curve.RocCurveDisplay at 0x7f43e4834310>"
            ]
          },
          "metadata": {},
          "execution_count": 41
        },
        {
          "output_type": "display_data",
          "data": {
            "text/plain": [
              "<Figure size 432x288 with 1 Axes>"
            ],
            "image/png": "[encoded data removed]"
          },
          "metadata": {
            "needs_background": "light"
          }
        }
      ]
    },
    {
      "cell_type": "markdown",
      "source": [
        "**DECISION TREE**"
      ],
      "metadata": {
        "papermill": {
          "duration": 0.049449,
          "end_time": "2021-04-11T18:52:13.987144",
          "exception": false,
          "start_time": "2021-04-11T18:52:13.937695",
          "status": "completed"
        },
        "tags": [],
        "id": "ISMPjidjA9eW"
      }
    },
    {
      "cell_type": "code",
      "source": [
        "dtc = DecisionTreeClassifier(max_depth = 3, random_state=0)\n",
        "dtc.fit(X_ros, y_ros)\n",
        "y_pred_dtc = dtc.predict(X_test)\n",
        "#metrics.accuracy_score(y_test, y_pred_dtc)\n",
        "\n",
        "print(classification_report(y_test, y_pred_dtc))\n",
        "print(\"Accuracy score of Decision tree : {:.2f}\".format(accuracy_score(y_pred_dtc,y_test)))\n",
        "print(\"Recall score of Decision tree: {:.2f}\".format(recall_score(y_pred_dtc,y_test,average='macro',zero_division=True)))\n",
        "print(\"Precision score of Decision tree: {:.2f}\".format(precision_score(y_pred_dtc,y_test,zero_division = True)))\n",
        "print(\"F1 score of Decision tree: {:.2f}\".format(f1_score(y_pred_dtc,y_test,zero_division=True)))"
      ],
      "metadata": {
        "papermill": {
          "duration": 0.108088,
          "end_time": "2021-04-11T18:52:14.145256",
          "exception": false,
          "start_time": "2021-04-11T18:52:14.037168",
          "status": "completed"
        },
        "tags": [],
        "execution": {
          "iopub.status.busy": "2022-09-04T05:38:27.269704Z",
          "iopub.execute_input": "2022-09-04T05:38:27.270663Z",
          "iopub.status.idle": "2022-09-04T05:38:27.373741Z",
          "shell.execute_reply.started": "2022-09-04T05:38:27.270619Z",
          "shell.execute_reply": "2022-09-04T05:38:27.372045Z"
        },
        "trusted": true,
        "colab": {
          "base_uri": "https://localhost:8080/"
        },
        "id": "hVCrANCAA9eW",
        "outputId": "4b952d32-088a-4af8-859b-03679aa3e699"
      },
      "execution_count": 42,
      "outputs": [
        {
          "output_type": "stream",
          "name": "stdout",
          "text": [
            "              precision    recall  f1-score   support\n",
            "\n",
            "           0       0.75      0.52      0.61      4232\n",
            "           1       0.64      0.83      0.72      4312\n",
            "\n",
            "    accuracy                           0.67      8544\n",
            "   macro avg       0.69      0.67      0.66      8544\n",
            "weighted avg       0.69      0.67      0.66      8544\n",
            "\n",
            "Accuracy score of Decision tree : 0.67\n",
            "Recall score of Decision tree: 0.69\n",
            "Precision score of Decision tree: 0.83\n",
            "F1 score of Decision tree: 0.72\n"
          ]
        }
      ]
    },
    {
      "cell_type": "markdown",
      "source": [
        "**Hyperparameter tuning**"
      ],
      "metadata": {
        "papermill": {
          "duration": 0.048363,
          "end_time": "2021-04-11T18:52:14.243816",
          "exception": false,
          "start_time": "2021-04-11T18:52:14.195453",
          "status": "completed"
        },
        "tags": [],
        "id": "4UYqikY4A9eX"
      }
    },
    {
      "cell_type": "code",
      "source": [
        "params = {'max_leaf_nodes': list(range(2, 100)), 'min_samples_split': [2, 3, 4]}\n",
        "grid_search_cv = GridSearchCV(DecisionTreeClassifier(random_state=42), params, verbose=1, cv=3)\n",
        "grid_search_cv.fit(X_ros, y_ros)\n",
        "# returns the best model\n",
        "grid_search_cv.best_estimator_\n",
        "# the best parameters\n",
        "grid_search_cv.best_params_\n",
        "# results obtained by the best model\n",
        "dt_accuracy = grid_search_cv.best_score_ \n",
        "print('The accuracy score with using the tuned decision tree classifier is: ', dt_accuracy)"
      ],
      "metadata": {
        "papermill": {
          "duration": 30.345591,
          "end_time": "2021-04-11T18:52:44.638036",
          "exception": false,
          "start_time": "2021-04-11T18:52:14.292445",
          "status": "completed"
        },
        "tags": [],
        "execution": {
          "iopub.status.busy": "2022-09-04T05:38:27.375319Z",
          "iopub.execute_input": "2022-09-04T05:38:27.375631Z"
        },
        "trusted": true,
        "colab": {
          "base_uri": "https://localhost:8080/"
        },
        "id": "8oSthKzxA9eX",
        "outputId": "209b1b23-e10f-463b-c5b7-bd1905c96565"
      },
      "execution_count": 43,
      "outputs": [
        {
          "output_type": "stream",
          "name": "stdout",
          "text": [
            "Fitting 3 folds for each of 294 candidates, totalling 882 fits\n",
            "The accuracy score with using the tuned decision tree classifier is:  0.7482439429801987\n"
          ]
        }
      ]
    },
    {
      "cell_type": "code",
      "source": [
        "plot_roc_curve(grid_search_cv, X_test, y_test)"
      ],
      "metadata": {
        "papermill": {
          "duration": 0.22746,
          "end_time": "2021-04-11T18:52:44.915101",
          "exception": false,
          "start_time": "2021-04-11T18:52:44.687641",
          "status": "completed"
        },
        "tags": [],
        "trusted": true,
        "colab": {
          "base_uri": "https://localhost:8080/",
          "height": 354
        },
        "id": "zAjzUyGZA9eY",
        "outputId": "5d340a03-80c0-4741-c449-c2f5e2ae73c9"
      },
      "execution_count": 44,
      "outputs": [
        {
          "output_type": "stream",
          "name": "stderr",
          "text": [
            "/usr/local/lib/python3.7/dist-packages/sklearn/utils/deprecation.py:87: FutureWarning: Function plot_roc_curve is deprecated; Function :func:`plot_roc_curve` is deprecated in 1.0 and will be removed in 1.2. Use one of the class methods: :meth:`sklearn.metric.RocCurveDisplay.from_predictions` or :meth:`sklearn.metric.RocCurveDisplay.from_estimator`.\n",
            "  warnings.warn(msg, category=FutureWarning)\n"
          ]
        },
        {
          "output_type": "execute_result",
          "data": {
            "text/plain": [
              "<sklearn.metrics._plot.roc_curve.RocCurveDisplay at 0x7f43e4768290>"
            ]
          },
          "metadata": {},
          "execution_count": 44
        },
        {
          "output_type": "display_data",
          "data": {
            "text/plain": [
              "<Figure size 432x288 with 1 Axes>"
            ],
            "image/png": "[encoded data removed]"
          },
          "metadata": {
            "needs_background": "light"
          }
        }
      ]
    },
    {
      "cell_type": "markdown",
      "source": [
        "**RANDOM FOREST**"
      ],
      "metadata": {
        "papermill": {
          "duration": 0.050561,
          "end_time": "2021-04-11T18:52:45.016565",
          "exception": false,
          "start_time": "2021-04-11T18:52:44.966004",
          "status": "completed"
        },
        "tags": [],
        "id": "0za4TunDA9eY"
      }
    },
    {
      "cell_type": "code",
      "source": [
        "rfc = RandomForestClassifier(n_estimators = 50, class_weight = {0:1, 1:4})\n",
        "rfc.fit(X_ros, y_ros)\n",
        "y_pred_rfc = rfc.predict(X_test)\n",
        "\n",
        "print(classification_report(y_test, y_pred_rfc))\n",
        "print(\"Accuracy score of Random forest : {:.2f}\".format(accuracy_score(y_pred_rfc,y_test)))\n",
        "print(\"Recall score of Random forest : {:.2f}\".format(recall_score(y_pred_rfc,y_test,average='macro',zero_division=True)))\n",
        "print(\"Precision score of Random forest : {:.2f}\".format(precision_score(y_pred_rfc,y_test,zero_division = True)))\n",
        "print(\"F1 score of Random forest : {:.2f}\".format(f1_score(y_pred_rfc,y_test,zero_division=True)))"
      ],
      "metadata": {
        "papermill": {
          "duration": 1.071607,
          "end_time": "2021-04-11T18:52:46.139331",
          "exception": false,
          "start_time": "2021-04-11T18:52:45.067724",
          "status": "completed"
        },
        "tags": [],
        "trusted": true,
        "colab": {
          "base_uri": "https://localhost:8080/"
        },
        "id": "PiKbeIpJA9eZ",
        "outputId": "3411dded-f60d-4344-e9de-d33cb47ba8f5"
      },
      "execution_count": 45,
      "outputs": [
        {
          "output_type": "stream",
          "name": "stdout",
          "text": [
            "              precision    recall  f1-score   support\n",
            "\n",
            "           0       0.93      0.83      0.88      4232\n",
            "           1       0.85      0.94      0.89      4312\n",
            "\n",
            "    accuracy                           0.89      8544\n",
            "   macro avg       0.89      0.89      0.89      8544\n",
            "weighted avg       0.89      0.89      0.89      8544\n",
            "\n",
            "Accuracy score of Random forest : 0.89\n",
            "Recall score of Random forest : 0.89\n",
            "Precision score of Random forest : 0.94\n",
            "F1 score of Random forest : 0.89\n"
          ]
        }
      ]
    },
    {
      "cell_type": "code",
      "source": [
        "params = {'max_leaf_nodes': list(range(2, 20)), 'min_samples_split': [2, 3, 4]}\n",
        "grid_search_cv = GridSearchCV(RandomForestClassifier(random_state=42), params, verbose=1, cv=3)\n",
        "grid_search_cv.fit(X_ros, y_ros)\n",
        "\n",
        "grid_search_cv.best_estimator_\n",
        "grid_search_cv.best_params_\n",
        "rf_accuracy = grid_search_cv.best_score_ \n",
        "print('The accuracy score with using the tuned Random Forest is :',rf_accuracy)"
      ],
      "metadata": {
        "papermill": {
          "duration": 89.242956,
          "end_time": "2021-04-11T18:54:15.435378",
          "exception": false,
          "start_time": "2021-04-11T18:52:46.192422",
          "status": "completed"
        },
        "tags": [],
        "trusted": true,
        "colab": {
          "base_uri": "https://localhost:8080/"
        },
        "id": "3ZgOrL3NA9eZ",
        "outputId": "5254e89b-a79e-44a2-e779-aca07101d7c0"
      },
      "execution_count": 46,
      "outputs": [
        {
          "output_type": "stream",
          "name": "stdout",
          "text": [
            "Fitting 3 folds for each of 54 candidates, totalling 162 fits\n",
            "The accuracy score with using the tuned Random Forest is : 0.7230633624884245\n"
          ]
        }
      ]
    },
    {
      "cell_type": "code",
      "source": [
        "plot_roc_curve(grid_search_cv, X_test, y_test)"
      ],
      "metadata": {
        "papermill": {
          "duration": 0.276153,
          "end_time": "2021-04-11T18:54:15.76368",
          "exception": false,
          "start_time": "2021-04-11T18:54:15.487527",
          "status": "completed"
        },
        "tags": [],
        "trusted": true,
        "colab": {
          "base_uri": "https://localhost:8080/",
          "height": 354
        },
        "id": "dfAUnbB1A9ea",
        "outputId": "4b8914f0-2c7e-4ff4-a4c4-24167c900f28"
      },
      "execution_count": 47,
      "outputs": [
        {
          "output_type": "stream",
          "name": "stderr",
          "text": [
            "/usr/local/lib/python3.7/dist-packages/sklearn/utils/deprecation.py:87: FutureWarning: Function plot_roc_curve is deprecated; Function :func:`plot_roc_curve` is deprecated in 1.0 and will be removed in 1.2. Use one of the class methods: :meth:`sklearn.metric.RocCurveDisplay.from_predictions` or :meth:`sklearn.metric.RocCurveDisplay.from_estimator`.\n",
            "  warnings.warn(msg, category=FutureWarning)\n"
          ]
        },
        {
          "output_type": "execute_result",
          "data": {
            "text/plain": [
              "<sklearn.metrics._plot.roc_curve.RocCurveDisplay at 0x7f43e3f6eed0>"
            ]
          },
          "metadata": {},
          "execution_count": 47
        },
        {
          "output_type": "display_data",
          "data": {
            "text/plain": [
              "<Figure size 432x288 with 1 Axes>"
            ],
            "image/png": "[encoded data removed]"
          },
          "metadata": {
            "needs_background": "light"
          }
        }
      ]
    },
    {
      "cell_type": "markdown",
      "source": [
        "**XGB CLASSIFIER**"
      ],
      "metadata": {
        "papermill": {
          "duration": 0.053035,
          "end_time": "2021-04-11T18:54:15.870035",
          "exception": false,
          "start_time": "2021-04-11T18:54:15.817",
          "status": "completed"
        },
        "tags": [],
        "id": "ZBOGHIm_A9ea"
      }
    },
    {
      "cell_type": "code",
      "source": [
        "xgbc = XGBClassifier(use_label_encoder=False)\n",
        "xgbc.fit(X_ros,y_ros)\n",
        "y_pred_xgbc = xgbc.predict(X_test)\n",
        "xgb_accuracy = accuracy_score(y_test,xgbc.predict(X_test))\n",
        "\n",
        "print(classification_report(y_test, y_pred_xgbc))\n",
        "print(\"Accuracy score of XGBclassifier : {:.2f}\".format(accuracy_score(y_pred_xgbc,y_test)))\n",
        "print(\"Recall score of XGBclassifier : {:.2f}\".format(recall_score(y_pred_xgbc,y_test,average='macro',zero_division=True)))\n",
        "print(\"Precision score of XGBclassifier : {:.2f}\".format(precision_score(y_pred_xgbc,y_test,zero_division = True)))\n",
        "print(\"F1 score of XGBclassifier : {:.2f}\".format(f1_score(y_pred_xgbc,y_test,zero_division=True)))"
      ],
      "metadata": {
        "papermill": {
          "duration": 1.055032,
          "end_time": "2021-04-11T18:54:16.978586",
          "exception": false,
          "start_time": "2021-04-11T18:54:15.923554",
          "status": "completed"
        },
        "tags": [],
        "trusted": true,
        "colab": {
          "base_uri": "https://localhost:8080/"
        },
        "id": "9hIbyHqFA9ea",
        "outputId": "caf9ca14-23c1-4b20-a5c3-80b2868e5603"
      },
      "execution_count": 48,
      "outputs": [
        {
          "output_type": "stream",
          "name": "stdout",
          "text": [
            "              precision    recall  f1-score   support\n",
            "\n",
            "           0       0.76      0.73      0.74      4232\n",
            "           1       0.75      0.77      0.76      4312\n",
            "\n",
            "    accuracy                           0.75      8544\n",
            "   macro avg       0.75      0.75      0.75      8544\n",
            "weighted avg       0.75      0.75      0.75      8544\n",
            "\n",
            "Accuracy score of XGBclassifier : 0.75\n",
            "Recall score of XGBclassifier : 0.75\n",
            "Precision score of XGBclassifier : 0.77\n",
            "F1 score of XGBclassifier : 0.76\n"
          ]
        }
      ]
    },
    {
      "cell_type": "code",
      "source": [
        "plot_roc_curve(xgbc, X_test, y_test)"
      ],
      "metadata": {
        "papermill": {
          "duration": 0.245715,
          "end_time": "2021-04-11T18:54:17.279692",
          "exception": false,
          "start_time": "2021-04-11T18:54:17.033977",
          "status": "completed"
        },
        "tags": [],
        "trusted": true,
        "colab": {
          "base_uri": "https://localhost:8080/",
          "height": 354
        },
        "id": "aBygSdxBA9eb",
        "outputId": "2dfff263-a72f-4bb5-bda2-b458be5228f0"
      },
      "execution_count": 49,
      "outputs": [
        {
          "output_type": "stream",
          "name": "stderr",
          "text": [
            "/usr/local/lib/python3.7/dist-packages/sklearn/utils/deprecation.py:87: FutureWarning: Function plot_roc_curve is deprecated; Function :func:`plot_roc_curve` is deprecated in 1.0 and will be removed in 1.2. Use one of the class methods: :meth:`sklearn.metric.RocCurveDisplay.from_predictions` or :meth:`sklearn.metric.RocCurveDisplay.from_estimator`.\n",
            "  warnings.warn(msg, category=FutureWarning)\n"
          ]
        },
        {
          "output_type": "execute_result",
          "data": {
            "text/plain": [
              "<sklearn.metrics._plot.roc_curve.RocCurveDisplay at 0x7f43e3e95750>"
            ]
          },
          "metadata": {},
          "execution_count": 49
        },
        {
          "output_type": "display_data",
          "data": {
            "text/plain": [
              "<Figure size 432x288 with 1 Axes>"
            ],
            "image/png": "[encoded data removed]"
          },
          "metadata": {
            "needs_background": "light"
          }
        }
      ]
    },
    {
      "cell_type": "markdown",
      "source": [
        "# Comparison of Models"
      ],
      "metadata": {
        "papermill": {
          "duration": 0.054978,
          "end_time": "2021-04-11T18:54:17.390109",
          "exception": false,
          "start_time": "2021-04-11T18:54:17.335131",
          "status": "completed"
        },
        "tags": [],
        "id": "KxCw19hCA9ec"
      }
    },
    {
      "cell_type": "markdown",
      "source": [
        "Let's check out which one out of our models has the best accuracy score."
      ],
      "metadata": {
        "papermill": {
          "duration": 0.054883,
          "end_time": "2021-04-11T18:54:17.500324",
          "exception": false,
          "start_time": "2021-04-11T18:54:17.445441",
          "status": "completed"
        },
        "tags": [],
        "id": "uAF_rDSiA9ed"
      }
    },
    {
      "cell_type": "code",
      "source": [
        "accuracies = {\"Decision Tree Accuracy\":dt_accuracy,  \"Random Forest Accuracy\":accuracy_score(y_pred_rfc,y_test), \"XGB Accuracy\":xgb_accuracy, \"KNN Accuracy\":knn_accuracy}\n",
        "print(\"The best score has the model: \", max(accuracies, key=accuracies.get))"
      ],
      "metadata": {
        "papermill": {
          "duration": 0.079689,
          "end_time": "2021-04-11T18:54:17.635603",
          "exception": false,
          "start_time": "2021-04-11T18:54:17.555914",
          "status": "completed"
        },
        "tags": [],
        "trusted": true,
        "colab": {
          "base_uri": "https://localhost:8080/"
        },
        "id": "2hOcaQp4A9ee",
        "outputId": "8e732ca3-979c-4ebd-b9d7-a8f08416698b"
      },
      "execution_count": 50,
      "outputs": [
        {
          "output_type": "stream",
          "name": "stdout",
          "text": [
            "The best score has the model:  Random Forest Accuracy\n"
          ]
        }
      ]
    },
    {
      "cell_type": "markdown",
      "source": [
        "Random forest model has clearly the highest accuracy. Let's now check how good were the other ones!"
      ],
      "metadata": {
        "papermill": {
          "duration": 0.055628,
          "end_time": "2021-04-11T18:54:17.747932",
          "exception": false,
          "start_time": "2021-04-11T18:54:17.692304",
          "status": "completed"
        },
        "tags": [],
        "id": "MLslDt08A9ee"
      }
    },
    {
      "cell_type": "code",
      "source": [
        "plt.figure(figsize=(20,10))\n",
        "plt.bar(*zip(*accuracies.items()), color=colorblind_palette, width = 0.8)\n",
        "plt.title(\"Comparison of different models accuracies\")\n",
        "plt.grid(axis = 'y', linewidth = 0.5)\n",
        "plt.show()"
      ],
      "metadata": {
        "papermill": {
          "duration": 0.082665,
          "end_time": "2021-04-11T18:54:17.886838",
          "exception": false,
          "start_time": "2021-04-11T18:54:17.804173",
          "status": "completed"
        },
        "tags": [],
        "trusted": true,
        "colab": {
          "base_uri": "https://localhost:8080/",
          "height": 607
        },
        "id": "vJGNSbA4A9ee",
        "outputId": "c7d03bc6-2b85-4fdd-a0c4-38d22792e890"
      },
      "execution_count": 51,
      "outputs": [
        {
          "output_type": "display_data",
          "data": {
            "text/plain": [
              "<Figure size 1440x720 with 1 Axes>"
            ],
            "image/png": "[encoded data removed]"
          },
          "metadata": {
            "needs_background": "light"
          }
        }
      ]
    }
  ]
}